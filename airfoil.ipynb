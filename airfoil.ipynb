{
  "nbformat": 4,
  "nbformat_minor": 0,
  "metadata": {
    "colab": {
      "provenance": []
    },
    "kernelspec": {
      "name": "python3",
      "display_name": "Python 3"
    },
    "language_info": {
      "name": "python"
    }
  },
  "cells": [
    {
      "cell_type": "code",
      "source": [
        "import pandas as pd\n",
        "import matplotlib.pyplot as plt\n",
        "dataframe1 = pd.read_excel('airfoil.xlsx')"
      ],
      "metadata": {
        "id": "szHYkAjtgqsU"
      },
      "execution_count": null,
      "outputs": []
    },
    {
      "cell_type": "code",
      "source": [
        "print(dataframe1)\n",
        "print(dataframe1.columns.ravel())"
      ],
      "metadata": {
        "colab": {
          "base_uri": "https://localhost:8080/"
        },
        "id": "zrTzyLri048U",
        "outputId": "c027666c-0cb9-4e41-a99b-1285e1e0bb73"
      },
      "execution_count": null,
      "outputs": [
        {
          "output_type": "stream",
          "name": "stdout",
          "text": [
            "    X values  Y values\n",
            "0     1.0000   0.00063\n",
            "1     0.9500   0.00403\n",
            "2     0.9000   0.00724\n",
            "3     0.8000   0.01312\n",
            "4     0.7000   0.01832\n",
            "5     0.6000   0.02282\n",
            "6     0.5000   0.02647\n",
            "7     0.4000   0.02902\n",
            "8     0.3000   0.03001\n",
            "9     0.2500   0.02971\n",
            "10    0.2000   0.02869\n",
            "11    0.1500   0.02673\n",
            "12    0.1000   0.02341\n",
            "13    0.0750   0.02100\n",
            "14    0.0500   0.01777\n",
            "15    0.0250   0.01307\n",
            "16    0.0125   0.00947\n",
            "17    0.0000   0.00000\n",
            "18    0.0125  -0.00947\n",
            "19    0.0250  -0.01307\n",
            "20    0.0500  -0.01777\n",
            "21    0.0750  -0.02100\n",
            "22    0.1000  -0.02341\n",
            "23    0.1500  -0.02673\n",
            "24    0.2000  -0.02869\n",
            "25    0.2500  -0.02971\n",
            "26    0.3000  -0.03001\n",
            "27    0.4000  -0.02902\n",
            "28    0.5000  -0.02647\n",
            "29    0.6000  -0.02282\n",
            "30    0.7000  -0.01832\n",
            "31    0.8000  -0.01312\n",
            "32    0.9000  -0.00724\n",
            "33    0.9500  -0.00403\n",
            "34    1.0000  -0.00063\n",
            "['X values' 'Y values']\n"
          ]
        },
        {
          "output_type": "stream",
          "name": "stderr",
          "text": [
            "<ipython-input-46-3a81a1194366>:2: FutureWarning: Index.ravel returning ndarray is deprecated; in a future version this will return a view on self.\n",
            "  print(dataframe1.columns.ravel())\n"
          ]
        }
      ]
    },
    {
      "cell_type": "code",
      "execution_count": null,
      "metadata": {
        "id": "teV3Zv3wI7gS",
        "colab": {
          "base_uri": "https://localhost:8080/",
          "height": 265
        },
        "outputId": "b82e3de4-1615-4255-971c-e9ea4d14307c"
      },
      "outputs": [
        {
          "output_type": "display_data",
          "data": {
            "text/plain": [
              "<Figure size 432x288 with 1 Axes>"
            ],
            "image/png": "[encoded data removed]"
          },
          "metadata": {
            "needs_background": "light"
          }
        }
      ],
      "source": [
        "x = list(dataframe1['X values'])\n",
        "y = list(dataframe1['Y values'])\n",
        "\n",
        "plt.plot(x, y)\n",
        "plt.show()\n",
        "\n",
        "#print(x)\n",
        "\n",
        "# data = pd.read_excel('/content/gdrive/My Drive/airfoil.xlsx')\n",
        "# display(pd.DataFrame(data))"
      ]
    }
  ]
}